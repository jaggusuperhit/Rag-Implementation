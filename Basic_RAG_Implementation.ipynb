{
 "cells": [
  {
   "cell_type": "code",
   "execution_count": 1,
   "metadata": {},
   "outputs": [],
   "source": [
    "import os\n",
    "from dotenv import load_dotenv, find_dotenv\n",
    "_ = load_dotenv(find_dotenv())\n",
    "# Use OpenRouter API key instead of OpenAI\n",
    "openrouter_api_key = os.environ[\"OPENROUTER_API_KEY\"]\n",
    "openrouter_model = os.environ.get(\"OPENROUTER_MODEL\", \"openai/gpt-3.5-turbo\")"
   ]
  },
  {
   "cell_type": "code",
   "execution_count": 2,
   "metadata": {},
   "outputs": [],
   "source": [
    "from langchain_community.vectorstores import FAISS\n",
    "from langchain_community.embeddings import HuggingFaceEmbeddings\n",
    "from langchain_text_splitters import CharacterTextSplitter\n",
    "from langchain_community.document_loaders import TextLoader"
   ]
  },
  {
   "cell_type": "code",
   "execution_count": 3,
   "metadata": {},
   "outputs": [],
   "source": [
    "loader = TextLoader(\"data\\Rocket.txt\")\n",
    "loaded_document = loader.load()"
   ]
  },
  {
   "cell_type": "code",
   "execution_count": 4,
   "metadata": {},
   "outputs": [
    {
     "data": {
      "text/plain": [
       "[Document(metadata={'source': 'data\\\\Rocket.txt'}, page_content=\"Here are some detailed examples of how Python is used in rocket technology:\\n1. Simulation and Modeling\\nTrajectory Simulation: Python is used to simulate the trajectory of rockets, taking into account factors like gravity, thrust, and atmospheric conditions.\\nDynamics Simulation: Python is used to simulate the dynamics of rocket systems, such as the motion of rocket components, thermal analysis, and structural analysis.\\nSome popular Python libraries used for simulation and modeling include:\\nNumPy: For numerical computations and data analysis.\\nSciPy: For scientific computing and signal processing.\\nPandas: For data manipulation and analysis.\\nMatplotlib: For data visualization.\\n2. Data Analysis\\nTelemetry Data Analysis: Python is used to analyze telemetry data from rockets, including data from sensors, cameras, and other instruments.\\nPerformance Analysis: Python is used to analyze the performance of rocket systems, including thrust, specific impulse, and other key metrics.\\nSome popular Python libraries used for data analysis include:\\nPandas: For data manipulation and analysis.\\nNumPy: For numerical computations and data analysis.\\nMatplotlib: For data visualization.\\nSeaborn: For data visualization.\\n3. Control Systems\\nGuidance, Navigation, and Control (GNC): Python is used in some GNC systems to control the trajectory of rockets and ensure accurate navigation.\\nAutopilot Systems: Python is used in some autopilot systems to control the attitude and altitude of rockets.\\nSome popular Python libraries used for control systems include:\\nNumPy: For numerical computations and data analysis.\\nSciPy: For scientific computing and signal processing.\\nPyControl: A Python library for control systems.\\n4. Testing and Automation\\nAutomated Testing: Python is used to automate testing of rocket systems, including hardware-in-the-loop testing and software-in-the-loop testing.\\nTest Data Analysis: Python is used to analyze test data from rocket systems, including data from sensors, cameras, and other instruments.\\nSome popular Python libraries used for testing and automation include:\\nPytest: A Python testing framework.\\nUnittest: A built-in Python testing framework.\\nRobot Framework: A generic test automation framework.\\n5. Scientific Computing\\nAstrodynamics: Python is used for astrodynamics calculations, including orbit determination and trajectory planning.\\nAerodynamics: Python is used for aerodynamics calculations, including computational fluid dynamics (CFD) simulations.\\nSome popular Python libraries used for scientific computing include:\\nAstropy: A Python library for astronomy and astrophysics.\\nSciPy: For scientific computing and signal processing.\\nNumPy: For numerical computations and data analysis.\\nSome notable examples of Python's use in rocket technology include:\\nNASA's Jet Propulsion Laboratory (JPL): Uses Python for various tasks, including data analysis and visualization.\\nSpaceX: Uses Python for some of its rocket control systems and data analysis tasks.\\nBlue Origin: Uses Python for some of its rocket control systems and data analysis tasks.\\nRocket Lab: Uses Python for some of its rocket's control systems and telemetry data analysis.\\nThese are just a few examples of how Python is used in rocket technology. Python's versatility, ease of use, and large community make it a popular choice for many applications in the space industry.\\nMeta AI Response: Here are some detailed examples of how Python is used in rocket technology: 1. Simulation and Modeling Trajectory Simulation: Python is used to simulate the trajectory of rockets, taking into account factors like gravity, thrust, and atmospheric conditions. Dynamics Simulation: Python is used to simulate the dynamics of rocket systems, such as the motion of rocket components, thermal analysis, and structural analysis. Some popular Python libraries used for simulation and modeling include: NumPy: For numerical computations and data analysis. SciPy: For scientific computing and signal processing. Pandas: For data manipulation and analysis. Matplotlib: For data visualization. 2. Data Analysis Telemetry Data Analysis: Python is used to analyze telemetry data from rockets, including data from sensors, cameras, and other instruments. Performance Analysis: Python is used to analyze the performance of rocket systems, including thrust, specific impulse, and other key metrics. Some popular Python libraries used for data analysis include: Pandas: For data manipulation and analysis. NumPy: For numerical computations and data analysis. Matplotlib: For data visualization. Seaborn: For data visualization. 3. Control Systems Guidance, Navigation, and Control (GNC): Python is used in some GNC systems to control the trajectory of rockets and ensure accurate navigation. Autopilot Systems: Python is used in some autopilot systems to control the attitude and altitude of rockets. Some popular Python libraries used for control systems include: NumPy: For numerical computations and data analysis. SciPy: For scientific computing and signal processing. PyControl: A Python library for control systems. 4. Testing and Automation Automated Testing: Python is used to automate testing of rocket systems, including hardware-in-the-loop testing and software-in-the-loop testing. Test Data Analysis: Python is used to analyze test data from rocket systems, including data from sensors, cameras, and other instruments. Some popular Python libraries used for testing and automation include: Pytest: A Python testing framework. Unittest: A built-in Python testing framework. Robot Framework: A generic test automation framework. 5. Scientific Computing Astrodynamics: Python is used for astrodynamics calculations, including orbit determination and trajectory planning. Aerodynamics: Python is used for aerodynamics calculations, including computational fluid dynamics (CFD) simulations. Some popular Python libraries used for scientific computing include: Astropy: A Python library for astronomy and astrophysics. SciPy: For scientific computing and signal processing. NumPy: For numerical computations and data analysis. Some notable examples of Python's use in rocket technology include: NASA's Jet Propulsion Laboratory (JPL): Uses Python for various tasks, including data analysis and visualization. SpaceX: Uses Python for some of its rocket control systems and data analysis tasks. Blue Origin: Uses Python for some of its rocket control systems and data analysis tasks. Rocket Lab: Uses Python for some of its rocket's control systems and telemetry data analysis. These are just a few examples of how Python is used in rocket technology. Python's versatility, ease of use, and large community make it a popular choice for many applications in the space industry.\")]"
      ]
     },
     "execution_count": 4,
     "metadata": {},
     "output_type": "execute_result"
    }
   ],
   "source": [
    "loaded_document"
   ]
  },
  {
   "cell_type": "code",
   "execution_count": 5,
   "metadata": {},
   "outputs": [],
   "source": [
    "text_splitter = CharacterTextSplitter(chunk_size=1000, chunk_overlap=0)\n",
    "chunks_of_text = text_splitter.split_documents(loaded_document)"
   ]
  },
  {
   "cell_type": "code",
   "execution_count": 6,
   "metadata": {},
   "outputs": [
    {
     "data": {
      "text/plain": [
       "1"
      ]
     },
     "execution_count": 6,
     "metadata": {},
     "output_type": "execute_result"
    }
   ],
   "source": [
    "len(chunks_of_text)"
   ]
  },
  {
   "cell_type": "code",
   "execution_count": 7,
   "metadata": {},
   "outputs": [
    {
     "name": "stderr",
     "output_type": "stream",
     "text": [
      "C:\\Windows\\Temp\\ipykernel_5292\\920948181.py:2: LangChainDeprecationWarning: The class `HuggingFaceEmbeddings` was deprecated in LangChain 0.2.2 and will be removed in 1.0. An updated version of the class exists in the :class:`~langchain-huggingface package and should be used instead. To use it run `pip install -U :class:`~langchain-huggingface` and import as `from :class:`~langchain_huggingface import HuggingFaceEmbeddings``.\n",
      "  embeddings = HuggingFaceEmbeddings(model_name=\"all-MiniLM-L6-v2\")\n"
     ]
    }
   ],
   "source": [
    "# Use HuggingFace embeddings instead of OpenAI\n",
    "embeddings = HuggingFaceEmbeddings(model_name=\"all-MiniLM-L6-v2\")\n",
    "\n",
    "vector_db = FAISS.from_documents(chunks_of_text, embeddings)"
   ]
  },
  {
   "cell_type": "code",
   "execution_count": 8,
   "metadata": {},
   "outputs": [
    {
     "data": {
      "text/plain": [
       "<langchain_community.vectorstores.faiss.FAISS at 0x1dd63736080>"
      ]
     },
     "execution_count": 8,
     "metadata": {},
     "output_type": "execute_result"
    }
   ],
   "source": [
    "vector_db"
   ]
  },
  {
   "cell_type": "code",
   "execution_count": 9,
   "metadata": {},
   "outputs": [],
   "source": [
    "retriever = vector_db.as_retriever()"
   ]
  },
  {
   "cell_type": "code",
   "execution_count": 27,
   "metadata": {},
   "outputs": [],
   "source": [
    "response = retriever.invoke(\"what is python in Rocket?\")"
   ]
  },
  {
   "cell_type": "code",
   "execution_count": 28,
   "metadata": {},
   "outputs": [
    {
     "data": {
      "text/plain": [
       "[Document(id='1174f9b8-d68e-4f17-97dc-aef77a675df0', metadata={'source': 'data\\\\Rocket.txt'}, page_content=\"Here are some detailed examples of how Python is used in rocket technology:\\n1. Simulation and Modeling\\nTrajectory Simulation: Python is used to simulate the trajectory of rockets, taking into account factors like gravity, thrust, and atmospheric conditions.\\nDynamics Simulation: Python is used to simulate the dynamics of rocket systems, such as the motion of rocket components, thermal analysis, and structural analysis.\\nSome popular Python libraries used for simulation and modeling include:\\nNumPy: For numerical computations and data analysis.\\nSciPy: For scientific computing and signal processing.\\nPandas: For data manipulation and analysis.\\nMatplotlib: For data visualization.\\n2. Data Analysis\\nTelemetry Data Analysis: Python is used to analyze telemetry data from rockets, including data from sensors, cameras, and other instruments.\\nPerformance Analysis: Python is used to analyze the performance of rocket systems, including thrust, specific impulse, and other key metrics.\\nSome popular Python libraries used for data analysis include:\\nPandas: For data manipulation and analysis.\\nNumPy: For numerical computations and data analysis.\\nMatplotlib: For data visualization.\\nSeaborn: For data visualization.\\n3. Control Systems\\nGuidance, Navigation, and Control (GNC): Python is used in some GNC systems to control the trajectory of rockets and ensure accurate navigation.\\nAutopilot Systems: Python is used in some autopilot systems to control the attitude and altitude of rockets.\\nSome popular Python libraries used for control systems include:\\nNumPy: For numerical computations and data analysis.\\nSciPy: For scientific computing and signal processing.\\nPyControl: A Python library for control systems.\\n4. Testing and Automation\\nAutomated Testing: Python is used to automate testing of rocket systems, including hardware-in-the-loop testing and software-in-the-loop testing.\\nTest Data Analysis: Python is used to analyze test data from rocket systems, including data from sensors, cameras, and other instruments.\\nSome popular Python libraries used for testing and automation include:\\nPytest: A Python testing framework.\\nUnittest: A built-in Python testing framework.\\nRobot Framework: A generic test automation framework.\\n5. Scientific Computing\\nAstrodynamics: Python is used for astrodynamics calculations, including orbit determination and trajectory planning.\\nAerodynamics: Python is used for aerodynamics calculations, including computational fluid dynamics (CFD) simulations.\\nSome popular Python libraries used for scientific computing include:\\nAstropy: A Python library for astronomy and astrophysics.\\nSciPy: For scientific computing and signal processing.\\nNumPy: For numerical computations and data analysis.\\nSome notable examples of Python's use in rocket technology include:\\nNASA's Jet Propulsion Laboratory (JPL): Uses Python for various tasks, including data analysis and visualization.\\nSpaceX: Uses Python for some of its rocket control systems and data analysis tasks.\\nBlue Origin: Uses Python for some of its rocket control systems and data analysis tasks.\\nRocket Lab: Uses Python for some of its rocket's control systems and telemetry data analysis.\\nThese are just a few examples of how Python is used in rocket technology. Python's versatility, ease of use, and large community make it a popular choice for many applications in the space industry.\\nMeta AI Response: Here are some detailed examples of how Python is used in rocket technology: 1. Simulation and Modeling Trajectory Simulation: Python is used to simulate the trajectory of rockets, taking into account factors like gravity, thrust, and atmospheric conditions. Dynamics Simulation: Python is used to simulate the dynamics of rocket systems, such as the motion of rocket components, thermal analysis, and structural analysis. Some popular Python libraries used for simulation and modeling include: NumPy: For numerical computations and data analysis. SciPy: For scientific computing and signal processing. Pandas: For data manipulation and analysis. Matplotlib: For data visualization. 2. Data Analysis Telemetry Data Analysis: Python is used to analyze telemetry data from rockets, including data from sensors, cameras, and other instruments. Performance Analysis: Python is used to analyze the performance of rocket systems, including thrust, specific impulse, and other key metrics. Some popular Python libraries used for data analysis include: Pandas: For data manipulation and analysis. NumPy: For numerical computations and data analysis. Matplotlib: For data visualization. Seaborn: For data visualization. 3. Control Systems Guidance, Navigation, and Control (GNC): Python is used in some GNC systems to control the trajectory of rockets and ensure accurate navigation. Autopilot Systems: Python is used in some autopilot systems to control the attitude and altitude of rockets. Some popular Python libraries used for control systems include: NumPy: For numerical computations and data analysis. SciPy: For scientific computing and signal processing. PyControl: A Python library for control systems. 4. Testing and Automation Automated Testing: Python is used to automate testing of rocket systems, including hardware-in-the-loop testing and software-in-the-loop testing. Test Data Analysis: Python is used to analyze test data from rocket systems, including data from sensors, cameras, and other instruments. Some popular Python libraries used for testing and automation include: Pytest: A Python testing framework. Unittest: A built-in Python testing framework. Robot Framework: A generic test automation framework. 5. Scientific Computing Astrodynamics: Python is used for astrodynamics calculations, including orbit determination and trajectory planning. Aerodynamics: Python is used for aerodynamics calculations, including computational fluid dynamics (CFD) simulations. Some popular Python libraries used for scientific computing include: Astropy: A Python library for astronomy and astrophysics. SciPy: For scientific computing and signal processing. NumPy: For numerical computations and data analysis. Some notable examples of Python's use in rocket technology include: NASA's Jet Propulsion Laboratory (JPL): Uses Python for various tasks, including data analysis and visualization. SpaceX: Uses Python for some of its rocket control systems and data analysis tasks. Blue Origin: Uses Python for some of its rocket control systems and data analysis tasks. Rocket Lab: Uses Python for some of its rocket's control systems and telemetry data analysis. These are just a few examples of how Python is used in rocket technology. Python's versatility, ease of use, and large community make it a popular choice for many applications in the space industry.\")]"
      ]
     },
     "execution_count": 28,
     "metadata": {},
     "output_type": "execute_result"
    }
   ],
   "source": [
    "response"
   ]
  },
  {
   "cell_type": "code",
   "execution_count": 12,
   "metadata": {},
   "outputs": [
    {
     "data": {
      "text/plain": [
       "1"
      ]
     },
     "execution_count": 12,
     "metadata": {},
     "output_type": "execute_result"
    }
   ],
   "source": [
    "len(response)"
   ]
  },
  {
   "cell_type": "code",
   "execution_count": 13,
   "metadata": {},
   "outputs": [],
   "source": [
    "retriever = vector_db.as_retriever(search_kwargs={\"k\": 3})"
   ]
  },
  {
   "cell_type": "code",
   "execution_count": 29,
   "metadata": {},
   "outputs": [],
   "source": [
    "response = retriever.invoke(\"what is rocket?\")"
   ]
  },
  {
   "cell_type": "code",
   "execution_count": 30,
   "metadata": {},
   "outputs": [
    {
     "data": {
      "text/plain": [
       "[Document(id='1174f9b8-d68e-4f17-97dc-aef77a675df0', metadata={'source': 'data\\\\Rocket.txt'}, page_content=\"Here are some detailed examples of how Python is used in rocket technology:\\n1. Simulation and Modeling\\nTrajectory Simulation: Python is used to simulate the trajectory of rockets, taking into account factors like gravity, thrust, and atmospheric conditions.\\nDynamics Simulation: Python is used to simulate the dynamics of rocket systems, such as the motion of rocket components, thermal analysis, and structural analysis.\\nSome popular Python libraries used for simulation and modeling include:\\nNumPy: For numerical computations and data analysis.\\nSciPy: For scientific computing and signal processing.\\nPandas: For data manipulation and analysis.\\nMatplotlib: For data visualization.\\n2. Data Analysis\\nTelemetry Data Analysis: Python is used to analyze telemetry data from rockets, including data from sensors, cameras, and other instruments.\\nPerformance Analysis: Python is used to analyze the performance of rocket systems, including thrust, specific impulse, and other key metrics.\\nSome popular Python libraries used for data analysis include:\\nPandas: For data manipulation and analysis.\\nNumPy: For numerical computations and data analysis.\\nMatplotlib: For data visualization.\\nSeaborn: For data visualization.\\n3. Control Systems\\nGuidance, Navigation, and Control (GNC): Python is used in some GNC systems to control the trajectory of rockets and ensure accurate navigation.\\nAutopilot Systems: Python is used in some autopilot systems to control the attitude and altitude of rockets.\\nSome popular Python libraries used for control systems include:\\nNumPy: For numerical computations and data analysis.\\nSciPy: For scientific computing and signal processing.\\nPyControl: A Python library for control systems.\\n4. Testing and Automation\\nAutomated Testing: Python is used to automate testing of rocket systems, including hardware-in-the-loop testing and software-in-the-loop testing.\\nTest Data Analysis: Python is used to analyze test data from rocket systems, including data from sensors, cameras, and other instruments.\\nSome popular Python libraries used for testing and automation include:\\nPytest: A Python testing framework.\\nUnittest: A built-in Python testing framework.\\nRobot Framework: A generic test automation framework.\\n5. Scientific Computing\\nAstrodynamics: Python is used for astrodynamics calculations, including orbit determination and trajectory planning.\\nAerodynamics: Python is used for aerodynamics calculations, including computational fluid dynamics (CFD) simulations.\\nSome popular Python libraries used for scientific computing include:\\nAstropy: A Python library for astronomy and astrophysics.\\nSciPy: For scientific computing and signal processing.\\nNumPy: For numerical computations and data analysis.\\nSome notable examples of Python's use in rocket technology include:\\nNASA's Jet Propulsion Laboratory (JPL): Uses Python for various tasks, including data analysis and visualization.\\nSpaceX: Uses Python for some of its rocket control systems and data analysis tasks.\\nBlue Origin: Uses Python for some of its rocket control systems and data analysis tasks.\\nRocket Lab: Uses Python for some of its rocket's control systems and telemetry data analysis.\\nThese are just a few examples of how Python is used in rocket technology. Python's versatility, ease of use, and large community make it a popular choice for many applications in the space industry.\\nMeta AI Response: Here are some detailed examples of how Python is used in rocket technology: 1. Simulation and Modeling Trajectory Simulation: Python is used to simulate the trajectory of rockets, taking into account factors like gravity, thrust, and atmospheric conditions. Dynamics Simulation: Python is used to simulate the dynamics of rocket systems, such as the motion of rocket components, thermal analysis, and structural analysis. Some popular Python libraries used for simulation and modeling include: NumPy: For numerical computations and data analysis. SciPy: For scientific computing and signal processing. Pandas: For data manipulation and analysis. Matplotlib: For data visualization. 2. Data Analysis Telemetry Data Analysis: Python is used to analyze telemetry data from rockets, including data from sensors, cameras, and other instruments. Performance Analysis: Python is used to analyze the performance of rocket systems, including thrust, specific impulse, and other key metrics. Some popular Python libraries used for data analysis include: Pandas: For data manipulation and analysis. NumPy: For numerical computations and data analysis. Matplotlib: For data visualization. Seaborn: For data visualization. 3. Control Systems Guidance, Navigation, and Control (GNC): Python is used in some GNC systems to control the trajectory of rockets and ensure accurate navigation. Autopilot Systems: Python is used in some autopilot systems to control the attitude and altitude of rockets. Some popular Python libraries used for control systems include: NumPy: For numerical computations and data analysis. SciPy: For scientific computing and signal processing. PyControl: A Python library for control systems. 4. Testing and Automation Automated Testing: Python is used to automate testing of rocket systems, including hardware-in-the-loop testing and software-in-the-loop testing. Test Data Analysis: Python is used to analyze test data from rocket systems, including data from sensors, cameras, and other instruments. Some popular Python libraries used for testing and automation include: Pytest: A Python testing framework. Unittest: A built-in Python testing framework. Robot Framework: A generic test automation framework. 5. Scientific Computing Astrodynamics: Python is used for astrodynamics calculations, including orbit determination and trajectory planning. Aerodynamics: Python is used for aerodynamics calculations, including computational fluid dynamics (CFD) simulations. Some popular Python libraries used for scientific computing include: Astropy: A Python library for astronomy and astrophysics. SciPy: For scientific computing and signal processing. NumPy: For numerical computations and data analysis. Some notable examples of Python's use in rocket technology include: NASA's Jet Propulsion Laboratory (JPL): Uses Python for various tasks, including data analysis and visualization. SpaceX: Uses Python for some of its rocket control systems and data analysis tasks. Blue Origin: Uses Python for some of its rocket control systems and data analysis tasks. Rocket Lab: Uses Python for some of its rocket's control systems and telemetry data analysis. These are just a few examples of how Python is used in rocket technology. Python's versatility, ease of use, and large community make it a popular choice for many applications in the space industry.\")]"
      ]
     },
     "execution_count": 30,
     "metadata": {},
     "output_type": "execute_result"
    }
   ],
   "source": [
    "response"
   ]
  },
  {
   "cell_type": "markdown",
   "metadata": {},
   "source": [
    "## Simple use with LCEL"
   ]
  },
  {
   "cell_type": "code",
   "execution_count": 16,
   "metadata": {},
   "outputs": [],
   "source": [
    "from langchain_community.chat_models import ChatOpenAI\n",
    "from langchain_core.prompts import ChatPromptTemplate\n",
    "from langchain_core.output_parsers import StrOutputParser\n",
    "from langchain_core.runnables import RunnablePassthrough"
   ]
  },
  {
   "cell_type": "code",
   "execution_count": 17,
   "metadata": {},
   "outputs": [
    {
     "name": "stderr",
     "output_type": "stream",
     "text": [
      "C:\\Windows\\Temp\\ipykernel_5292\\11782002.py:11: LangChainDeprecationWarning: The class `ChatOpenAI` was deprecated in LangChain 0.0.10 and will be removed in 1.0. An updated version of the class exists in the :class:`~langchain-openai package and should be used instead. To use it run `pip install -U :class:`~langchain-openai` and import as `from :class:`~langchain_openai import ChatOpenAI``.\n",
      "  model = ChatOpenAI(\n"
     ]
    }
   ],
   "source": [
    "template = \"\"\"Answer the question based only on the following context:\n",
    "\n",
    "{context}\n",
    "\n",
    "Question: {question}\n",
    "\"\"\"\n",
    "\n",
    "prompt = ChatPromptTemplate.from_template(template)\n",
    "\n",
    "# Use OpenRouter instead of OpenAI\n",
    "model = ChatOpenAI(\n",
    "    openai_api_base=\"https://openrouter.ai/api/v1\",\n",
    "    openai_api_key=openrouter_api_key,\n",
    "    model_name=openrouter_model,\n",
    ")"
   ]
  },
  {
   "cell_type": "code",
   "execution_count": 18,
   "metadata": {},
   "outputs": [],
   "source": [
    "def format_docs(docs):\n",
    "    return \"\\n\\n\".join([d.page_content for d in docs])\n",
    "\n",
    "\n",
    "chain = (\n",
    "    {\"context\": retriever | format_docs, \"question\": RunnablePassthrough()}\n",
    "    | prompt\n",
    "    | model\n",
    "    | StrOutputParser()\n",
    ")\n"
   ]
  },
  {
   "cell_type": "code",
   "execution_count": 25,
   "metadata": {},
   "outputs": [],
   "source": [
    "response = chain.invoke(\"what is python in Rocket?\")"
   ]
  },
  {
   "cell_type": "code",
   "execution_count": 26,
   "metadata": {},
   "outputs": [
    {
     "data": {
      "text/plain": [
       "\"Python is a programming language that is widely used in rocket technology for tasks such as simulation and modeling, data analysis, control systems, testing and automation, and scientific computing. It is used for a variety of purposes including trajectory simulation, telemetry data analysis, autopilot systems, testing automation, astrodynamics calculations, and more. Python's versatility, ease of use, and large community make it a popular choice for many applications in the space industry.\""
      ]
     },
     "execution_count": 26,
     "metadata": {},
     "output_type": "execute_result"
    }
   ],
   "source": [
    "response"
   ]
  },
  {
   "cell_type": "code",
   "execution_count": 24,
   "metadata": {},
   "outputs": [
    {
     "data": {
      "text/plain": [
       "str"
      ]
     },
     "execution_count": 24,
     "metadata": {},
     "output_type": "execute_result"
    }
   ],
   "source": [
    "type(response)"
   ]
  }
 ],
 "metadata": {
  "kernelspec": {
   "display_name": "myenv",
   "language": "python",
   "name": "python3"
  },
  "language_info": {
   "codemirror_mode": {
    "name": "ipython",
    "version": 3
   },
   "file_extension": ".py",
   "mimetype": "text/x-python",
   "name": "python",
   "nbconvert_exporter": "python",
   "pygments_lexer": "ipython3",
   "version": "3.10.9"
  }
 },
 "nbformat": 4,
 "nbformat_minor": 2
}
